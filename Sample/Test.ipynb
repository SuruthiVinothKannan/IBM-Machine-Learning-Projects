{
    "cells": [
        {
            "cell_type": "markdown",
            "metadata": {
                "collapsed": true
            },
            "source": "# My Jupyter Notebook on IBM Data Science Experience"
        },
        {
            "cell_type": "markdown",
            "metadata": {},
            "source": "**Suruthi Vinoth Kannan**  \nData Scientist"
        },
        {
            "cell_type": "markdown",
            "metadata": {},
            "source": "*I am interested in data science because the concept of getting the insights, patterns from big data gives the feel of explorer.* "
        },
        {
            "cell_type": "markdown",
            "metadata": {},
            "source": "### Calculate the sum of two numbers"
        },
        {
            "cell_type": "code",
            "execution_count": 2,
            "metadata": {},
            "outputs": [
                {
                    "name": "stdout",
                    "output_type": "stream",
                    "text": "30\n"
                }
            ],
            "source": "a = 10\nb = 20\ns = a+b\nprint(s)"
        },
        {
            "cell_type": "markdown",
            "metadata": {},
            "source": "***  \nMarkdown\n1. Horizontal line\n2. Bulleted list\n3. Image\n<img src=\"https://regmedia.co.uk/2017/11/02/new_ibm_cloud_logo.jpg?x=442&y=293&crop=1\" />"
        }
    ],
    "metadata": {
        "kernelspec": {
            "display_name": "Python 3.6",
            "language": "python",
            "name": "python3"
        },
        "language_info": {
            "codemirror_mode": {
                "name": "ipython",
                "version": 3
            },
            "file_extension": ".py",
            "mimetype": "text/x-python",
            "name": "python",
            "nbconvert_exporter": "python",
            "pygments_lexer": "ipython3",
            "version": "3.6.9"
        }
    },
    "nbformat": 4,
    "nbformat_minor": 1
}